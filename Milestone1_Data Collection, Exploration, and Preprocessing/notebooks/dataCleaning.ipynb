{
 "cells": [
  {
   "cell_type": "code",
   "execution_count": 62,
   "metadata": {},
   "outputs": [],
   "source": [
    "import pandas as pd\n",
    "import matplotlib.pyplot as plt\n",
    "import seaborn as sns\n",
    "import numpy as np\n",
    "from sklearn.base import BaseEstimator, TransformerMixin\n",
    "from sklearn.pipeline import Pipeline\n",
    "from verstack import NaNImputer\n",
    "\n",
    "import warnings\n",
    "warnings.filterwarnings(\"ignore\")"
   ]
  },
  {
   "cell_type": "markdown",
   "metadata": {},
   "source": [
    "### Load data"
   ]
  },
  {
   "cell_type": "code",
   "execution_count": 63,
   "metadata": {},
   "outputs": [
    {
     "data": {
      "text/html": [
       "<div>\n",
       "<style scoped>\n",
       "    .dataframe tbody tr th:only-of-type {\n",
       "        vertical-align: middle;\n",
       "    }\n",
       "\n",
       "    .dataframe tbody tr th {\n",
       "        vertical-align: top;\n",
       "    }\n",
       "\n",
       "    .dataframe thead th {\n",
       "        text-align: right;\n",
       "    }\n",
       "</style>\n",
       "<table border=\"1\" class=\"dataframe\">\n",
       "  <thead>\n",
       "    <tr style=\"text-align: right;\">\n",
       "      <th></th>\n",
       "      <th>customer_id</th>\n",
       "      <th>Name</th>\n",
       "      <th>age</th>\n",
       "      <th>gender</th>\n",
       "      <th>security_no</th>\n",
       "      <th>region_category</th>\n",
       "      <th>membership_category</th>\n",
       "      <th>joining_date</th>\n",
       "      <th>joined_through_referral</th>\n",
       "      <th>referral_id</th>\n",
       "      <th>...</th>\n",
       "      <th>avg_time_spent</th>\n",
       "      <th>avg_transaction_value</th>\n",
       "      <th>avg_frequency_login_days</th>\n",
       "      <th>points_in_wallet</th>\n",
       "      <th>used_special_discount</th>\n",
       "      <th>offer_application_preference</th>\n",
       "      <th>past_complaint</th>\n",
       "      <th>complaint_status</th>\n",
       "      <th>feedback</th>\n",
       "      <th>churn_risk_score</th>\n",
       "    </tr>\n",
       "  </thead>\n",
       "  <tbody>\n",
       "    <tr>\n",
       "      <th>9550</th>\n",
       "      <td>fffe43004900440033003200320035003600</td>\n",
       "      <td>Tobias Liebold</td>\n",
       "      <td>24</td>\n",
       "      <td>F</td>\n",
       "      <td>I4AYTC2</td>\n",
       "      <td>City</td>\n",
       "      <td>Premium Membership</td>\n",
       "      <td>2015-04-22</td>\n",
       "      <td>No</td>\n",
       "      <td>xxxxxxxx</td>\n",
       "      <td>...</td>\n",
       "      <td>101.50</td>\n",
       "      <td>32593.20</td>\n",
       "      <td>15.0</td>\n",
       "      <td>801.18</td>\n",
       "      <td>Yes</td>\n",
       "      <td>No</td>\n",
       "      <td>No</td>\n",
       "      <td>Not Applicable</td>\n",
       "      <td>Products always in Stock</td>\n",
       "      <td>1</td>\n",
       "    </tr>\n",
       "    <tr>\n",
       "      <th>7112</th>\n",
       "      <td>fffe43004900440032003200350035003400</td>\n",
       "      <td>Patrick Kizer</td>\n",
       "      <td>53</td>\n",
       "      <td>F</td>\n",
       "      <td>WV0LB6W</td>\n",
       "      <td>Town</td>\n",
       "      <td>Silver Membership</td>\n",
       "      <td>2016-01-19</td>\n",
       "      <td>No</td>\n",
       "      <td>xxxxxxxx</td>\n",
       "      <td>...</td>\n",
       "      <td>324.61</td>\n",
       "      <td>39155.49</td>\n",
       "      <td>21.0</td>\n",
       "      <td>NaN</td>\n",
       "      <td>No</td>\n",
       "      <td>Yes</td>\n",
       "      <td>No</td>\n",
       "      <td>Not Applicable</td>\n",
       "      <td>No reason specified</td>\n",
       "      <td>3</td>\n",
       "    </tr>\n",
       "    <tr>\n",
       "      <th>9545</th>\n",
       "      <td>fffe43004900440031003000380038003300</td>\n",
       "      <td>Annamaria Freese</td>\n",
       "      <td>53</td>\n",
       "      <td>F</td>\n",
       "      <td>94O1F22</td>\n",
       "      <td>Town</td>\n",
       "      <td>No Membership</td>\n",
       "      <td>2016-02-07</td>\n",
       "      <td>Yes</td>\n",
       "      <td>CID19334</td>\n",
       "      <td>...</td>\n",
       "      <td>47.71</td>\n",
       "      <td>35434.17</td>\n",
       "      <td>12.0</td>\n",
       "      <td>675.17</td>\n",
       "      <td>Yes</td>\n",
       "      <td>No</td>\n",
       "      <td>No</td>\n",
       "      <td>Not Applicable</td>\n",
       "      <td>Poor Product Quality</td>\n",
       "      <td>5</td>\n",
       "    </tr>\n",
       "    <tr>\n",
       "      <th>10261</th>\n",
       "      <td>fffe43004900440034003200300031003800</td>\n",
       "      <td>Gilda Lundy</td>\n",
       "      <td>61</td>\n",
       "      <td>M</td>\n",
       "      <td>74WFG9K</td>\n",
       "      <td>NaN</td>\n",
       "      <td>Gold Membership</td>\n",
       "      <td>2017-10-24</td>\n",
       "      <td>No</td>\n",
       "      <td>xxxxxxxx</td>\n",
       "      <td>...</td>\n",
       "      <td>451.66</td>\n",
       "      <td>30621.93</td>\n",
       "      <td>7.0</td>\n",
       "      <td>755.93</td>\n",
       "      <td>Yes</td>\n",
       "      <td>Yes</td>\n",
       "      <td>Yes</td>\n",
       "      <td>Solved</td>\n",
       "      <td>Poor Product Quality</td>\n",
       "      <td>3</td>\n",
       "    </tr>\n",
       "    <tr>\n",
       "      <th>9876</th>\n",
       "      <td>fffe43004900440034003100380030003300</td>\n",
       "      <td>Angla Alameda</td>\n",
       "      <td>46</td>\n",
       "      <td>F</td>\n",
       "      <td>249HVEX</td>\n",
       "      <td>Town</td>\n",
       "      <td>Premium Membership</td>\n",
       "      <td>2016-06-11</td>\n",
       "      <td>No</td>\n",
       "      <td>xxxxxxxx</td>\n",
       "      <td>...</td>\n",
       "      <td>266.68</td>\n",
       "      <td>50462.15</td>\n",
       "      <td>Error</td>\n",
       "      <td>806.67</td>\n",
       "      <td>Yes</td>\n",
       "      <td>Yes</td>\n",
       "      <td>Yes</td>\n",
       "      <td>Solved</td>\n",
       "      <td>Products always in Stock</td>\n",
       "      <td>1</td>\n",
       "    </tr>\n",
       "  </tbody>\n",
       "</table>\n",
       "<p>5 rows × 25 columns</p>\n",
       "</div>"
      ],
      "text/plain": [
       "                                customer_id              Name  age gender  \\\n",
       "9550   fffe43004900440033003200320035003600    Tobias Liebold   24      F   \n",
       "7112   fffe43004900440032003200350035003400     Patrick Kizer   53      F   \n",
       "9545   fffe43004900440031003000380038003300  Annamaria Freese   53      F   \n",
       "10261  fffe43004900440034003200300031003800       Gilda Lundy   61      M   \n",
       "9876   fffe43004900440034003100380030003300     Angla Alameda   46      F   \n",
       "\n",
       "      security_no region_category membership_category joining_date  \\\n",
       "9550      I4AYTC2            City  Premium Membership   2015-04-22   \n",
       "7112      WV0LB6W            Town   Silver Membership   2016-01-19   \n",
       "9545      94O1F22            Town       No Membership   2016-02-07   \n",
       "10261     74WFG9K             NaN     Gold Membership   2017-10-24   \n",
       "9876      249HVEX            Town  Premium Membership   2016-06-11   \n",
       "\n",
       "      joined_through_referral referral_id  ... avg_time_spent  \\\n",
       "9550                       No    xxxxxxxx  ...         101.50   \n",
       "7112                       No    xxxxxxxx  ...         324.61   \n",
       "9545                      Yes    CID19334  ...          47.71   \n",
       "10261                      No    xxxxxxxx  ...         451.66   \n",
       "9876                       No    xxxxxxxx  ...         266.68   \n",
       "\n",
       "      avg_transaction_value avg_frequency_login_days points_in_wallet  \\\n",
       "9550               32593.20                     15.0           801.18   \n",
       "7112               39155.49                     21.0              NaN   \n",
       "9545               35434.17                     12.0           675.17   \n",
       "10261              30621.93                      7.0           755.93   \n",
       "9876               50462.15                    Error           806.67   \n",
       "\n",
       "       used_special_discount  offer_application_preference  past_complaint  \\\n",
       "9550                     Yes                            No              No   \n",
       "7112                      No                           Yes              No   \n",
       "9545                     Yes                            No              No   \n",
       "10261                    Yes                           Yes             Yes   \n",
       "9876                     Yes                           Yes             Yes   \n",
       "\n",
       "      complaint_status                  feedback churn_risk_score  \n",
       "9550    Not Applicable  Products always in Stock                1  \n",
       "7112    Not Applicable       No reason specified                3  \n",
       "9545    Not Applicable      Poor Product Quality                5  \n",
       "10261           Solved      Poor Product Quality                3  \n",
       "9876            Solved  Products always in Stock                1  \n",
       "\n",
       "[5 rows x 25 columns]"
      ]
     },
     "execution_count": 63,
     "metadata": {},
     "output_type": "execute_result"
    }
   ],
   "source": [
    "train = pd.read_csv(\"https://raw.githubusercontent.com/MohamedMostafa259/Customer-Churn-Prediction-and-Analysis/main/Data/train.csv\")\n",
    "train.sample(5, random_state=42)"
   ]
  },
  {
   "cell_type": "markdown",
   "metadata": {},
   "source": [
    "### Create a copy for cleaning"
   ]
  },
  {
   "cell_type": "code",
   "execution_count": 64,
   "metadata": {},
   "outputs": [],
   "source": [
    "train_copy = train.copy()"
   ]
  },
  {
   "cell_type": "markdown",
   "metadata": {},
   "source": [
    "### Investigate the dataset"
   ]
  },
  {
   "cell_type": "code",
   "execution_count": 65,
   "metadata": {},
   "outputs": [
    {
     "name": "stdout",
     "output_type": "stream",
     "text": [
      "<class 'pandas.core.frame.DataFrame'>\n",
      "RangeIndex: 36992 entries, 0 to 36991\n",
      "Data columns (total 25 columns):\n",
      " #   Column                        Non-Null Count  Dtype  \n",
      "---  ------                        --------------  -----  \n",
      " 0   customer_id                   36992 non-null  object \n",
      " 1   Name                          36992 non-null  object \n",
      " 2   age                           36992 non-null  int64  \n",
      " 3   gender                        36992 non-null  object \n",
      " 4   security_no                   36992 non-null  object \n",
      " 5   region_category               31564 non-null  object \n",
      " 6   membership_category           36992 non-null  object \n",
      " 7   joining_date                  36992 non-null  object \n",
      " 8   joined_through_referral       36992 non-null  object \n",
      " 9   referral_id                   36992 non-null  object \n",
      " 10  preferred_offer_types         36704 non-null  object \n",
      " 11  medium_of_operation           36992 non-null  object \n",
      " 12  internet_option               36992 non-null  object \n",
      " 13  last_visit_time               36992 non-null  object \n",
      " 14  days_since_last_login         36992 non-null  int64  \n",
      " 15  avg_time_spent                36992 non-null  float64\n",
      " 16  avg_transaction_value         36992 non-null  float64\n",
      " 17  avg_frequency_login_days      36992 non-null  object \n",
      " 18  points_in_wallet              33549 non-null  float64\n",
      " 19  used_special_discount         36992 non-null  object \n",
      " 20  offer_application_preference  36992 non-null  object \n",
      " 21  past_complaint                36992 non-null  object \n",
      " 22  complaint_status              36992 non-null  object \n",
      " 23  feedback                      36992 non-null  object \n",
      " 24  churn_risk_score              36992 non-null  int64  \n",
      "dtypes: float64(3), int64(3), object(19)\n",
      "memory usage: 7.1+ MB\n"
     ]
    }
   ],
   "source": [
    "train_copy.info()"
   ]
  },
  {
   "cell_type": "code",
   "execution_count": 66,
   "metadata": {},
   "outputs": [
    {
     "data": {
      "text/html": [
       "<div>\n",
       "<style scoped>\n",
       "    .dataframe tbody tr th:only-of-type {\n",
       "        vertical-align: middle;\n",
       "    }\n",
       "\n",
       "    .dataframe tbody tr th {\n",
       "        vertical-align: top;\n",
       "    }\n",
       "\n",
       "    .dataframe thead th {\n",
       "        text-align: right;\n",
       "    }\n",
       "</style>\n",
       "<table border=\"1\" class=\"dataframe\">\n",
       "  <thead>\n",
       "    <tr style=\"text-align: right;\">\n",
       "      <th></th>\n",
       "      <th>age</th>\n",
       "      <th>days_since_last_login</th>\n",
       "      <th>avg_time_spent</th>\n",
       "      <th>avg_transaction_value</th>\n",
       "      <th>points_in_wallet</th>\n",
       "      <th>churn_risk_score</th>\n",
       "    </tr>\n",
       "  </thead>\n",
       "  <tbody>\n",
       "    <tr>\n",
       "      <th>count</th>\n",
       "      <td>36992.000000</td>\n",
       "      <td>36992.000000</td>\n",
       "      <td>36992.000000</td>\n",
       "      <td>36992.000000</td>\n",
       "      <td>33549.000000</td>\n",
       "      <td>36992.000000</td>\n",
       "    </tr>\n",
       "    <tr>\n",
       "      <th>mean</th>\n",
       "      <td>37.118161</td>\n",
       "      <td>-41.915576</td>\n",
       "      <td>243.472334</td>\n",
       "      <td>29271.194003</td>\n",
       "      <td>686.882199</td>\n",
       "      <td>3.463397</td>\n",
       "    </tr>\n",
       "    <tr>\n",
       "      <th>std</th>\n",
       "      <td>15.867412</td>\n",
       "      <td>228.819900</td>\n",
       "      <td>398.289149</td>\n",
       "      <td>19444.806226</td>\n",
       "      <td>194.063624</td>\n",
       "      <td>1.409661</td>\n",
       "    </tr>\n",
       "    <tr>\n",
       "      <th>min</th>\n",
       "      <td>10.000000</td>\n",
       "      <td>-999.000000</td>\n",
       "      <td>-2814.109110</td>\n",
       "      <td>800.460000</td>\n",
       "      <td>-760.661236</td>\n",
       "      <td>-1.000000</td>\n",
       "    </tr>\n",
       "    <tr>\n",
       "      <th>25%</th>\n",
       "      <td>23.000000</td>\n",
       "      <td>8.000000</td>\n",
       "      <td>60.102500</td>\n",
       "      <td>14177.540000</td>\n",
       "      <td>616.150000</td>\n",
       "      <td>3.000000</td>\n",
       "    </tr>\n",
       "    <tr>\n",
       "      <th>50%</th>\n",
       "      <td>37.000000</td>\n",
       "      <td>12.000000</td>\n",
       "      <td>161.765000</td>\n",
       "      <td>27554.485000</td>\n",
       "      <td>697.620000</td>\n",
       "      <td>4.000000</td>\n",
       "    </tr>\n",
       "    <tr>\n",
       "      <th>75%</th>\n",
       "      <td>51.000000</td>\n",
       "      <td>16.000000</td>\n",
       "      <td>356.515000</td>\n",
       "      <td>40855.110000</td>\n",
       "      <td>763.950000</td>\n",
       "      <td>5.000000</td>\n",
       "    </tr>\n",
       "    <tr>\n",
       "      <th>max</th>\n",
       "      <td>64.000000</td>\n",
       "      <td>26.000000</td>\n",
       "      <td>3235.578521</td>\n",
       "      <td>99914.050000</td>\n",
       "      <td>2069.069761</td>\n",
       "      <td>5.000000</td>\n",
       "    </tr>\n",
       "  </tbody>\n",
       "</table>\n",
       "</div>"
      ],
      "text/plain": [
       "                age  days_since_last_login  avg_time_spent  \\\n",
       "count  36992.000000           36992.000000    36992.000000   \n",
       "mean      37.118161             -41.915576      243.472334   \n",
       "std       15.867412             228.819900      398.289149   \n",
       "min       10.000000            -999.000000    -2814.109110   \n",
       "25%       23.000000               8.000000       60.102500   \n",
       "50%       37.000000              12.000000      161.765000   \n",
       "75%       51.000000              16.000000      356.515000   \n",
       "max       64.000000              26.000000     3235.578521   \n",
       "\n",
       "       avg_transaction_value  points_in_wallet  churn_risk_score  \n",
       "count           36992.000000      33549.000000      36992.000000  \n",
       "mean            29271.194003        686.882199          3.463397  \n",
       "std             19444.806226        194.063624          1.409661  \n",
       "min               800.460000       -760.661236         -1.000000  \n",
       "25%             14177.540000        616.150000          3.000000  \n",
       "50%             27554.485000        697.620000          4.000000  \n",
       "75%             40855.110000        763.950000          5.000000  \n",
       "max             99914.050000       2069.069761          5.000000  "
      ]
     },
     "execution_count": 66,
     "metadata": {},
     "output_type": "execute_result"
    }
   ],
   "source": [
    "train_copy.describe()"
   ]
  },
  {
   "cell_type": "code",
   "execution_count": 67,
   "metadata": {},
   "outputs": [
    {
     "data": {
      "text/plain": [
       "churn_risk_score\n",
       " 3    10424\n",
       " 4    10185\n",
       " 5     9827\n",
       " 2     2741\n",
       " 1     2652\n",
       "-1     1163\n",
       "Name: count, dtype: int64"
      ]
     },
     "execution_count": 67,
     "metadata": {},
     "output_type": "execute_result"
    }
   ],
   "source": [
    "train_copy['churn_risk_score'].value_counts()"
   ]
  },
  {
   "cell_type": "markdown",
   "metadata": {},
   "source": [
    "## Data cleaning"
   ]
  },
  {
   "cell_type": "markdown",
   "metadata": {},
   "source": [
    "#### Handling negative values"
   ]
  },
  {
   "cell_type": "code",
   "execution_count": 68,
   "metadata": {},
   "outputs": [],
   "source": [
    "train_copy.loc[train_copy['days_since_last_login'] < 0, 'days_since_last_login'] = np.nan\n",
    "train_copy.loc[train_copy['avg_time_spent'] < 0, 'avg_time_spent'] = np.nan\n",
    "train_copy.loc[train_copy['points_in_wallet'] < 0, 'points_in_wallet'] = np.nan\n",
    "train_copy.loc[train_copy['churn_risk_score'] == -1, 'churn_risk_score'] = np.nan"
   ]
  },
  {
   "cell_type": "code",
   "execution_count": 69,
   "metadata": {},
   "outputs": [
    {
     "data": {
      "text/html": [
       "<div>\n",
       "<style scoped>\n",
       "    .dataframe tbody tr th:only-of-type {\n",
       "        vertical-align: middle;\n",
       "    }\n",
       "\n",
       "    .dataframe tbody tr th {\n",
       "        vertical-align: top;\n",
       "    }\n",
       "\n",
       "    .dataframe thead th {\n",
       "        text-align: right;\n",
       "    }\n",
       "</style>\n",
       "<table border=\"1\" class=\"dataframe\">\n",
       "  <thead>\n",
       "    <tr style=\"text-align: right;\">\n",
       "      <th></th>\n",
       "      <th>age</th>\n",
       "      <th>days_since_last_login</th>\n",
       "      <th>avg_time_spent</th>\n",
       "      <th>avg_transaction_value</th>\n",
       "      <th>points_in_wallet</th>\n",
       "      <th>churn_risk_score</th>\n",
       "    </tr>\n",
       "  </thead>\n",
       "  <tbody>\n",
       "    <tr>\n",
       "      <th>count</th>\n",
       "      <td>36992.000000</td>\n",
       "      <td>34993.000000</td>\n",
       "      <td>35273.000000</td>\n",
       "      <td>36992.000000</td>\n",
       "      <td>33413.000000</td>\n",
       "      <td>35829.000000</td>\n",
       "    </tr>\n",
       "    <tr>\n",
       "      <th>mean</th>\n",
       "      <td>37.118161</td>\n",
       "      <td>12.758552</td>\n",
       "      <td>292.751466</td>\n",
       "      <td>29271.194003</td>\n",
       "      <td>690.354685</td>\n",
       "      <td>3.608278</td>\n",
       "    </tr>\n",
       "    <tr>\n",
       "      <th>std</th>\n",
       "      <td>15.867412</td>\n",
       "      <td>5.572600</td>\n",
       "      <td>331.946382</td>\n",
       "      <td>19444.806226</td>\n",
       "      <td>186.426973</td>\n",
       "      <td>1.176426</td>\n",
       "    </tr>\n",
       "    <tr>\n",
       "      <th>min</th>\n",
       "      <td>10.000000</td>\n",
       "      <td>1.000000</td>\n",
       "      <td>1.837399</td>\n",
       "      <td>800.460000</td>\n",
       "      <td>6.432208</td>\n",
       "      <td>1.000000</td>\n",
       "    </tr>\n",
       "    <tr>\n",
       "      <th>25%</th>\n",
       "      <td>23.000000</td>\n",
       "      <td>9.000000</td>\n",
       "      <td>71.560000</td>\n",
       "      <td>14177.540000</td>\n",
       "      <td>617.260000</td>\n",
       "      <td>3.000000</td>\n",
       "    </tr>\n",
       "    <tr>\n",
       "      <th>50%</th>\n",
       "      <td>37.000000</td>\n",
       "      <td>13.000000</td>\n",
       "      <td>174.180000</td>\n",
       "      <td>27554.485000</td>\n",
       "      <td>698.250000</td>\n",
       "      <td>4.000000</td>\n",
       "    </tr>\n",
       "    <tr>\n",
       "      <th>75%</th>\n",
       "      <td>51.000000</td>\n",
       "      <td>17.000000</td>\n",
       "      <td>371.160000</td>\n",
       "      <td>40855.110000</td>\n",
       "      <td>764.260000</td>\n",
       "      <td>5.000000</td>\n",
       "    </tr>\n",
       "    <tr>\n",
       "      <th>max</th>\n",
       "      <td>64.000000</td>\n",
       "      <td>26.000000</td>\n",
       "      <td>3235.578521</td>\n",
       "      <td>99914.050000</td>\n",
       "      <td>2069.069761</td>\n",
       "      <td>5.000000</td>\n",
       "    </tr>\n",
       "  </tbody>\n",
       "</table>\n",
       "</div>"
      ],
      "text/plain": [
       "                age  days_since_last_login  avg_time_spent  \\\n",
       "count  36992.000000           34993.000000    35273.000000   \n",
       "mean      37.118161              12.758552      292.751466   \n",
       "std       15.867412               5.572600      331.946382   \n",
       "min       10.000000               1.000000        1.837399   \n",
       "25%       23.000000               9.000000       71.560000   \n",
       "50%       37.000000              13.000000      174.180000   \n",
       "75%       51.000000              17.000000      371.160000   \n",
       "max       64.000000              26.000000     3235.578521   \n",
       "\n",
       "       avg_transaction_value  points_in_wallet  churn_risk_score  \n",
       "count           36992.000000      33413.000000      35829.000000  \n",
       "mean            29271.194003        690.354685          3.608278  \n",
       "std             19444.806226        186.426973          1.176426  \n",
       "min               800.460000          6.432208          1.000000  \n",
       "25%             14177.540000        617.260000          3.000000  \n",
       "50%             27554.485000        698.250000          4.000000  \n",
       "75%             40855.110000        764.260000          5.000000  \n",
       "max             99914.050000       2069.069761          5.000000  "
      ]
     },
     "execution_count": 69,
     "metadata": {},
     "output_type": "execute_result"
    }
   ],
   "source": [
    "train_copy.describe()"
   ]
  },
  {
   "cell_type": "markdown",
   "metadata": {},
   "source": [
    "#### Visualizing distributions"
   ]
  },
  {
   "cell_type": "code",
   "execution_count": 70,
   "metadata": {},
   "outputs": [
    {
     "data": {
      "image/png": "[encoded data removed]",
      "text/plain": [
       "<Figure size 640x480 with 1 Axes>"
      ]
     },
     "metadata": {},
     "output_type": "display_data"
    },
    {
     "data": {
      "image/png": "[encoded data removed]",
      "text/plain": [
       "<Figure size 640x480 with 1 Axes>"
      ]
     },
     "metadata": {},
     "output_type": "display_data"
    },
    {
     "data": {
      "image/png": "[encoded data removed]",
      "text/plain": [
       "<Figure size 640x480 with 1 Axes>"
      ]
     },
     "metadata": {},
     "output_type": "display_data"
    },
    {
     "data": {
      "image/png": "[encoded data removed]",
      "text/plain": [
       "<Figure size 640x480 with 1 Axes>"
      ]
     },
     "metadata": {},
     "output_type": "display_data"
    },
    {
     "data": {
      "image/png": "[encoded data removed]",
      "text/plain": [
       "<Figure size 640x480 with 1 Axes>"
      ]
     },
     "metadata": {},
     "output_type": "display_data"
    },
    {
     "data": {
      "image/png": "[encoded data removed]",
      "text/plain": [
       "<Figure size 640x480 with 1 Axes>"
      ]
     },
     "metadata": {},
     "output_type": "display_data"
    }
   ],
   "source": [
    "for col in train_copy.describe().columns:\n",
    "\tsns.violinplot(train_copy, x=col)\n",
    "\tplt.title(col)\n",
    "\tplt.show()"
   ]
  },
  {
   "cell_type": "code",
   "execution_count": 71,
   "metadata": {},
   "outputs": [],
   "source": [
    "# cols_with_outliers = ['avg_time_spent', 'avg_transaction_value', 'points_in_wallet']"
   ]
  },
  {
   "cell_type": "markdown",
   "metadata": {},
   "source": [
    "Some columns have non-normal and non-uniform distributions. Also, they have outliers; however, I will not cap these outliers because they may introduce an important pattern in the data, for example, if `avg_transaction_value` has some very high values due to VIP customers, capping them may remove valuable patterns.\n",
    "\n",
    "So, I will apply log transformation to `avg_time_spent` to make it look more normal as it's right-skewed."
   ]
  },
  {
   "cell_type": "markdown",
   "metadata": {},
   "source": [
    "#### Log transformation"
   ]
  },
  {
   "cell_type": "code",
   "execution_count": 72,
   "metadata": {},
   "outputs": [],
   "source": [
    "# log1p(x) = log(x + 1): this avoids errors when x = 0\n",
    "train_copy['log_avg_time_spent'] = np.log1p(train_copy['avg_time_spent'])"
   ]
  },
  {
   "cell_type": "code",
   "execution_count": 73,
   "metadata": {},
   "outputs": [
    {
     "data": {
      "image/png": "[encoded data removed]",
      "text/plain": [
       "<Figure size 640x480 with 1 Axes>"
      ]
     },
     "metadata": {},
     "output_type": "display_data"
    }
   ],
   "source": [
    "sns.violinplot(train_copy, x='log_avg_time_spent')\n",
    "plt.show()"
   ]
  },
  {
   "cell_type": "markdown",
   "metadata": {},
   "source": [
    "### Check duplicates"
   ]
  },
  {
   "cell_type": "code",
   "execution_count": 74,
   "metadata": {},
   "outputs": [
    {
     "data": {
      "text/plain": [
       "0"
      ]
     },
     "execution_count": 74,
     "metadata": {},
     "output_type": "execute_result"
    }
   ],
   "source": [
    "train_copy.duplicated(['customer_id']).sum()"
   ]
  },
  {
   "cell_type": "markdown",
   "metadata": {},
   "source": [
    "### Handling missing values "
   ]
  },
  {
   "cell_type": "code",
   "execution_count": 75,
   "metadata": {},
   "outputs": [
    {
     "name": "stdout",
     "output_type": "stream",
     "text": [
      "customer_id\n",
      "fffe4300490044003600300030003800        0.000027\n",
      "fffe43004900440033003400330032003000    0.000027\n",
      "fffe43004900440032003300340031003500    0.000027\n",
      "fffe43004900440035003300380031003700    0.000027\n",
      "fffe43004900440031003800300034003500    0.000027\n",
      "                                          ...   \n",
      "fffe43004900440034003900380033003700    0.000027\n",
      "fffe43004900440031003400330031003900    0.000027\n",
      "fffe43004900440032003900340031003700    0.000027\n",
      "fffe43004900440033003100350038003400    0.000027\n",
      "fffe43004900440033003600340034003200    0.000027\n",
      "Name: proportion, Length: 36992, dtype: float64\n",
      "--------------------------------------------------\n",
      "Name\n",
      "Pattie Morrisey     0.000027\n",
      "Brandon Casiano     0.000027\n",
      "Merideth Gebo       0.000027\n",
      "Neville Goodwill    0.000027\n",
      "Sol Siemers         0.000027\n",
      "                      ...   \n",
      "Gina Hintzen        0.000027\n",
      "Kizzy Ramos         0.000027\n",
      "Earlie Spalla       0.000027\n",
      "Vinnie Talley       0.000027\n",
      "Verlene Beaulieu    0.000027\n",
      "Name: proportion, Length: 36992, dtype: float64\n",
      "--------------------------------------------------\n",
      "gender\n",
      "F          0.499838\n",
      "M          0.498567\n",
      "Unknown    0.001595\n",
      "Name: proportion, dtype: float64\n",
      "--------------------------------------------------\n",
      "security_no\n",
      "XW0DQ7H    0.000027\n",
      "4KYNLO2    0.000027\n",
      "0TNAZKG    0.000027\n",
      "O8IMCTW    0.000027\n",
      "UN03OJW    0.000027\n",
      "             ...   \n",
      "L9BXACS    0.000027\n",
      "ESEDJQ2    0.000027\n",
      "X92X4AF    0.000027\n",
      "V526FJ1    0.000027\n",
      "LBX0GLR    0.000027\n",
      "Name: proportion, Length: 36992, dtype: float64\n",
      "--------------------------------------------------\n",
      "region_category\n",
      "Town       0.381920\n",
      "City       0.344318\n",
      "NaN        0.146734\n",
      "Village    0.127027\n",
      "Name: proportion, dtype: float64\n",
      "--------------------------------------------------\n",
      "membership_category\n",
      "Basic Membership       0.208802\n",
      "No Membership          0.207937\n",
      "Gold Membership        0.183688\n",
      "Silver Membership      0.161873\n",
      "Premium Membership     0.120431\n",
      "Platinum Membership    0.117269\n",
      "Name: proportion, dtype: float64\n",
      "--------------------------------------------------\n",
      "joining_date\n",
      "2015-06-02    0.001487\n",
      "2015-07-04    0.001379\n",
      "2015-06-21    0.001352\n",
      "2015-06-26    0.001325\n",
      "2016-08-03    0.001325\n",
      "                ...   \n",
      "2016-03-16    0.000514\n",
      "2016-06-03    0.000487\n",
      "2015-09-12    0.000487\n",
      "2017-07-03    0.000487\n",
      "2015-03-04    0.000433\n",
      "Name: proportion, Length: 1096, dtype: float64\n",
      "--------------------------------------------------\n",
      "joined_through_referral\n",
      "No     0.428174\n",
      "Yes    0.424822\n",
      "?      0.147005\n",
      "Name: proportion, dtype: float64\n",
      "--------------------------------------------------\n",
      "referral_id\n",
      "xxxxxxxx    0.482429\n",
      "CID43705    0.000324\n",
      "CID3979     0.000297\n",
      "CID49601    0.000270\n",
      "CID15792    0.000243\n",
      "              ...   \n",
      "CID28755    0.000027\n",
      "CID62237    0.000027\n",
      "CID23663    0.000027\n",
      "CID23071    0.000027\n",
      "CID45477    0.000027\n",
      "Name: proportion, Length: 11359, dtype: float64\n",
      "--------------------------------------------------\n",
      "preferred_offer_types\n",
      "Gift Vouchers/Coupons       0.333829\n",
      "Credit/Debit Card Offers    0.331801\n",
      "Without Offers              0.326584\n",
      "NaN                         0.007785\n",
      "Name: proportion, dtype: float64\n",
      "--------------------------------------------------\n",
      "medium_of_operation\n",
      "Desktop       0.376108\n",
      "Smartphone    0.375108\n",
      "?             0.145788\n",
      "Both          0.102995\n",
      "Name: proportion, dtype: float64\n",
      "--------------------------------------------------\n",
      "internet_option\n",
      "Wi-Fi          0.335559\n",
      "Mobile_Data    0.333667\n",
      "Fiber_Optic    0.330774\n",
      "Name: proportion, dtype: float64\n",
      "--------------------------------------------------\n",
      "last_visit_time\n",
      "07:56:41    0.000162\n",
      "17:11:53    0.000135\n",
      "22:31:06    0.000135\n",
      "02:50:54    0.000135\n",
      "12:30:02    0.000135\n",
      "              ...   \n",
      "21:48:50    0.000027\n",
      "07:53:40    0.000027\n",
      "00:05:51    0.000027\n",
      "10:48:11    0.000027\n",
      "01:39:52    0.000027\n",
      "Name: proportion, Length: 30101, dtype: float64\n",
      "--------------------------------------------------\n",
      "avg_frequency_login_days\n",
      "Error                  0.095210\n",
      "13.0                   0.037684\n",
      "19.0                   0.036900\n",
      "8.0                    0.036792\n",
      "14.0                   0.036630\n",
      "                         ...   \n",
      "28.191570401129514     0.000027\n",
      "41.73357294995208      0.000027\n",
      "-11.515939810499656    0.000027\n",
      "45.71683637272365      0.000027\n",
      "27.8399274405269       0.000027\n",
      "Name: proportion, Length: 1654, dtype: float64\n",
      "--------------------------------------------------\n",
      "used_special_discount\n",
      "Yes    0.549903\n",
      "No     0.450097\n",
      "Name: proportion, dtype: float64\n",
      "--------------------------------------------------\n",
      "offer_application_preference\n",
      "Yes    0.552552\n",
      "No     0.447448\n",
      "Name: proportion, dtype: float64\n",
      "--------------------------------------------------\n",
      "past_complaint\n",
      "No     0.502865\n",
      "Yes    0.497135\n",
      "Name: proportion, dtype: float64\n",
      "--------------------------------------------------\n",
      "complaint_status\n",
      "Not Applicable              0.502865\n",
      "Unsolved                    0.125541\n",
      "Solved                      0.124865\n",
      "Solved in Follow-up         0.123729\n",
      "No Information Available    0.123000\n",
      "Name: proportion, dtype: float64\n",
      "--------------------------------------------------\n",
      "feedback\n",
      "Poor Product Quality        0.171659\n",
      "No reason specified         0.170037\n",
      "Too many ads                0.169739\n",
      "Poor Website                0.169523\n",
      "Poor Customer Service       0.169010\n",
      "Reasonable Price            0.038306\n",
      "User Friendly Website       0.037603\n",
      "Products always in Stock    0.037359\n",
      "Quality Customer Care       0.036765\n",
      "Name: proportion, dtype: float64\n",
      "--------------------------------------------------\n"
     ]
    }
   ],
   "source": [
    "for col in train_copy.select_dtypes(include='object').columns:\n",
    "\tprint(train_copy[col].value_counts(normalize=True, dropna=False))\n",
    "\tprint('-'*50)"
   ]
  },
  {
   "cell_type": "code",
   "execution_count": 76,
   "metadata": {},
   "outputs": [],
   "source": [
    "# drop 'avg_frequency_login_days' because most of it is missing\n",
    "cols_to_drop = ['customer_id', 'Name', 'security_no', 'referral_id', 'avg_frequency_login_days']\n",
    "\n",
    "# date_cols = [('date', 'date_format'), ...]\n",
    "date_cols = [('joining_date', '%Y-%m-%d'), ('last_visit_time', '%H:%M:%S')]"
   ]
  },
  {
   "cell_type": "markdown",
   "metadata": {},
   "source": [
    "### Sanity check\n",
    "\n",
    "`referral_id` should be populated only when `joined_through_referral` is \"Yes\""
   ]
  },
  {
   "cell_type": "code",
   "execution_count": 77,
   "metadata": {},
   "outputs": [
    {
     "data": {
      "text/plain": [
       "0"
      ]
     },
     "execution_count": 77,
     "metadata": {},
     "output_type": "execute_result"
    }
   ],
   "source": [
    "train_copy['referral_id'].isna().sum()"
   ]
  },
  {
   "cell_type": "code",
   "execution_count": 78,
   "metadata": {},
   "outputs": [
    {
     "data": {
      "text/html": [
       "<div>\n",
       "<style scoped>\n",
       "    .dataframe tbody tr th:only-of-type {\n",
       "        vertical-align: middle;\n",
       "    }\n",
       "\n",
       "    .dataframe tbody tr th {\n",
       "        vertical-align: top;\n",
       "    }\n",
       "\n",
       "    .dataframe thead th {\n",
       "        text-align: right;\n",
       "    }\n",
       "</style>\n",
       "<table border=\"1\" class=\"dataframe\">\n",
       "  <thead>\n",
       "    <tr style=\"text-align: right;\">\n",
       "      <th></th>\n",
       "      <th>customer_id</th>\n",
       "      <th>Name</th>\n",
       "      <th>age</th>\n",
       "      <th>gender</th>\n",
       "      <th>security_no</th>\n",
       "      <th>region_category</th>\n",
       "      <th>membership_category</th>\n",
       "      <th>joining_date</th>\n",
       "      <th>joined_through_referral</th>\n",
       "      <th>referral_id</th>\n",
       "      <th>...</th>\n",
       "      <th>avg_transaction_value</th>\n",
       "      <th>avg_frequency_login_days</th>\n",
       "      <th>points_in_wallet</th>\n",
       "      <th>used_special_discount</th>\n",
       "      <th>offer_application_preference</th>\n",
       "      <th>past_complaint</th>\n",
       "      <th>complaint_status</th>\n",
       "      <th>feedback</th>\n",
       "      <th>churn_risk_score</th>\n",
       "      <th>log_avg_time_spent</th>\n",
       "    </tr>\n",
       "  </thead>\n",
       "  <tbody>\n",
       "    <tr>\n",
       "      <th>23</th>\n",
       "      <td>fffe43004900440032003300320035003700</td>\n",
       "      <td>Iliana Gagnier</td>\n",
       "      <td>48</td>\n",
       "      <td>M</td>\n",
       "      <td>GX2SOJ5</td>\n",
       "      <td>Town</td>\n",
       "      <td>Basic Membership</td>\n",
       "      <td>2017-11-10</td>\n",
       "      <td>Yes</td>\n",
       "      <td>xxxxxxxx</td>\n",
       "      <td>...</td>\n",
       "      <td>15860.41</td>\n",
       "      <td>3.2073857931601104</td>\n",
       "      <td>529.03</td>\n",
       "      <td>No</td>\n",
       "      <td>Yes</td>\n",
       "      <td>No</td>\n",
       "      <td>Not Applicable</td>\n",
       "      <td>No reason specified</td>\n",
       "      <td>NaN</td>\n",
       "      <td>4.297557</td>\n",
       "    </tr>\n",
       "    <tr>\n",
       "      <th>54</th>\n",
       "      <td>fffe43004900440033003800370031003800</td>\n",
       "      <td>Zelda Labombard</td>\n",
       "      <td>43</td>\n",
       "      <td>M</td>\n",
       "      <td>KJLXRJ7</td>\n",
       "      <td>Town</td>\n",
       "      <td>Premium Membership</td>\n",
       "      <td>2017-04-26</td>\n",
       "      <td>Yes</td>\n",
       "      <td>xxxxxxxx</td>\n",
       "      <td>...</td>\n",
       "      <td>9091.94</td>\n",
       "      <td>20.0</td>\n",
       "      <td>700.40</td>\n",
       "      <td>No</td>\n",
       "      <td>Yes</td>\n",
       "      <td>No</td>\n",
       "      <td>Not Applicable</td>\n",
       "      <td>Poor Product Quality</td>\n",
       "      <td>3.0</td>\n",
       "      <td>6.652644</td>\n",
       "    </tr>\n",
       "    <tr>\n",
       "      <th>83</th>\n",
       "      <td>fffe43004900440034003700390034003800</td>\n",
       "      <td>Xenia Kibby</td>\n",
       "      <td>54</td>\n",
       "      <td>M</td>\n",
       "      <td>KUJNEI7</td>\n",
       "      <td>NaN</td>\n",
       "      <td>Basic Membership</td>\n",
       "      <td>2015-08-07</td>\n",
       "      <td>Yes</td>\n",
       "      <td>xxxxxxxx</td>\n",
       "      <td>...</td>\n",
       "      <td>11345.66</td>\n",
       "      <td>7.0</td>\n",
       "      <td>572.41</td>\n",
       "      <td>No</td>\n",
       "      <td>Yes</td>\n",
       "      <td>Yes</td>\n",
       "      <td>Solved in Follow-up</td>\n",
       "      <td>Poor Product Quality</td>\n",
       "      <td>5.0</td>\n",
       "      <td>5.544083</td>\n",
       "    </tr>\n",
       "    <tr>\n",
       "      <th>103</th>\n",
       "      <td>fffe43004900440036003000360031003000</td>\n",
       "      <td>Sid Basel</td>\n",
       "      <td>49</td>\n",
       "      <td>F</td>\n",
       "      <td>80X3LBS</td>\n",
       "      <td>Town</td>\n",
       "      <td>Premium Membership</td>\n",
       "      <td>2016-09-02</td>\n",
       "      <td>Yes</td>\n",
       "      <td>xxxxxxxx</td>\n",
       "      <td>...</td>\n",
       "      <td>41156.81</td>\n",
       "      <td>27.0</td>\n",
       "      <td>741.02</td>\n",
       "      <td>No</td>\n",
       "      <td>Yes</td>\n",
       "      <td>No</td>\n",
       "      <td>Not Applicable</td>\n",
       "      <td>Poor Customer Service</td>\n",
       "      <td>3.0</td>\n",
       "      <td>4.757118</td>\n",
       "    </tr>\n",
       "    <tr>\n",
       "      <th>114</th>\n",
       "      <td>fffe4300490044003700350032003900</td>\n",
       "      <td>Melinda Tullius</td>\n",
       "      <td>26</td>\n",
       "      <td>M</td>\n",
       "      <td>ELWT1XG</td>\n",
       "      <td>City</td>\n",
       "      <td>Silver Membership</td>\n",
       "      <td>2017-11-14</td>\n",
       "      <td>Yes</td>\n",
       "      <td>xxxxxxxx</td>\n",
       "      <td>...</td>\n",
       "      <td>17002.23</td>\n",
       "      <td>11.0</td>\n",
       "      <td>700.11</td>\n",
       "      <td>No</td>\n",
       "      <td>Yes</td>\n",
       "      <td>No</td>\n",
       "      <td>Not Applicable</td>\n",
       "      <td>Too many ads</td>\n",
       "      <td>3.0</td>\n",
       "      <td>5.241271</td>\n",
       "    </tr>\n",
       "    <tr>\n",
       "      <th>...</th>\n",
       "      <td>...</td>\n",
       "      <td>...</td>\n",
       "      <td>...</td>\n",
       "      <td>...</td>\n",
       "      <td>...</td>\n",
       "      <td>...</td>\n",
       "      <td>...</td>\n",
       "      <td>...</td>\n",
       "      <td>...</td>\n",
       "      <td>...</td>\n",
       "      <td>...</td>\n",
       "      <td>...</td>\n",
       "      <td>...</td>\n",
       "      <td>...</td>\n",
       "      <td>...</td>\n",
       "      <td>...</td>\n",
       "      <td>...</td>\n",
       "      <td>...</td>\n",
       "      <td>...</td>\n",
       "      <td>...</td>\n",
       "      <td>...</td>\n",
       "    </tr>\n",
       "    <tr>\n",
       "      <th>36919</th>\n",
       "      <td>fffe43004900440031003200330036003100</td>\n",
       "      <td>Danny Rodriques</td>\n",
       "      <td>35</td>\n",
       "      <td>M</td>\n",
       "      <td>JLZ2E95</td>\n",
       "      <td>Village</td>\n",
       "      <td>No Membership</td>\n",
       "      <td>2015-08-27</td>\n",
       "      <td>Yes</td>\n",
       "      <td>xxxxxxxx</td>\n",
       "      <td>...</td>\n",
       "      <td>18097.99</td>\n",
       "      <td>17.0</td>\n",
       "      <td>672.83</td>\n",
       "      <td>Yes</td>\n",
       "      <td>No</td>\n",
       "      <td>No</td>\n",
       "      <td>Not Applicable</td>\n",
       "      <td>Poor Customer Service</td>\n",
       "      <td>4.0</td>\n",
       "      <td>6.419897</td>\n",
       "    </tr>\n",
       "    <tr>\n",
       "      <th>36926</th>\n",
       "      <td>fffe43004900440033003200350033003000</td>\n",
       "      <td>Joyce Robards</td>\n",
       "      <td>59</td>\n",
       "      <td>F</td>\n",
       "      <td>0PQQ85C</td>\n",
       "      <td>City</td>\n",
       "      <td>Basic Membership</td>\n",
       "      <td>2017-12-11</td>\n",
       "      <td>Yes</td>\n",
       "      <td>xxxxxxxx</td>\n",
       "      <td>...</td>\n",
       "      <td>14831.98</td>\n",
       "      <td>Error</td>\n",
       "      <td>682.34</td>\n",
       "      <td>Yes</td>\n",
       "      <td>No</td>\n",
       "      <td>No</td>\n",
       "      <td>Not Applicable</td>\n",
       "      <td>Poor Customer Service</td>\n",
       "      <td>5.0</td>\n",
       "      <td>4.051959</td>\n",
       "    </tr>\n",
       "    <tr>\n",
       "      <th>36939</th>\n",
       "      <td>fffe43004900440035003200300030003900</td>\n",
       "      <td>Christiana Troyer</td>\n",
       "      <td>54</td>\n",
       "      <td>F</td>\n",
       "      <td>P2ETOZR</td>\n",
       "      <td>Town</td>\n",
       "      <td>Platinum Membership</td>\n",
       "      <td>2015-03-29</td>\n",
       "      <td>Yes</td>\n",
       "      <td>xxxxxxxx</td>\n",
       "      <td>...</td>\n",
       "      <td>7346.05</td>\n",
       "      <td>13.0</td>\n",
       "      <td>NaN</td>\n",
       "      <td>No</td>\n",
       "      <td>Yes</td>\n",
       "      <td>Yes</td>\n",
       "      <td>Solved</td>\n",
       "      <td>Poor Website</td>\n",
       "      <td>3.0</td>\n",
       "      <td>3.601686</td>\n",
       "    </tr>\n",
       "    <tr>\n",
       "      <th>36945</th>\n",
       "      <td>fffe43004900440034003400350033003700</td>\n",
       "      <td>Elden Lecompte</td>\n",
       "      <td>64</td>\n",
       "      <td>M</td>\n",
       "      <td>2J86HFW</td>\n",
       "      <td>Town</td>\n",
       "      <td>Gold Membership</td>\n",
       "      <td>2015-04-25</td>\n",
       "      <td>Yes</td>\n",
       "      <td>xxxxxxxx</td>\n",
       "      <td>...</td>\n",
       "      <td>29127.95</td>\n",
       "      <td>29.0</td>\n",
       "      <td>727.13</td>\n",
       "      <td>Yes</td>\n",
       "      <td>No</td>\n",
       "      <td>No</td>\n",
       "      <td>Not Applicable</td>\n",
       "      <td>Poor Customer Service</td>\n",
       "      <td>3.0</td>\n",
       "      <td>3.503453</td>\n",
       "    </tr>\n",
       "    <tr>\n",
       "      <th>36950</th>\n",
       "      <td>fffe4300490044003300360037003400</td>\n",
       "      <td>Shawna Cao</td>\n",
       "      <td>58</td>\n",
       "      <td>F</td>\n",
       "      <td>F2XM0QL</td>\n",
       "      <td>Village</td>\n",
       "      <td>No Membership</td>\n",
       "      <td>2016-10-07</td>\n",
       "      <td>Yes</td>\n",
       "      <td>xxxxxxxx</td>\n",
       "      <td>...</td>\n",
       "      <td>10604.39</td>\n",
       "      <td>11.0</td>\n",
       "      <td>694.06</td>\n",
       "      <td>Yes</td>\n",
       "      <td>Yes</td>\n",
       "      <td>Yes</td>\n",
       "      <td>Solved</td>\n",
       "      <td>No reason specified</td>\n",
       "      <td>4.0</td>\n",
       "      <td>6.058866</td>\n",
       "    </tr>\n",
       "  </tbody>\n",
       "</table>\n",
       "<p>1446 rows × 26 columns</p>\n",
       "</div>"
      ],
      "text/plain": [
       "                                customer_id               Name  age gender  \\\n",
       "23     fffe43004900440032003300320035003700     Iliana Gagnier   48      M   \n",
       "54     fffe43004900440033003800370031003800    Zelda Labombard   43      M   \n",
       "83     fffe43004900440034003700390034003800        Xenia Kibby   54      M   \n",
       "103    fffe43004900440036003000360031003000          Sid Basel   49      F   \n",
       "114        fffe4300490044003700350032003900    Melinda Tullius   26      M   \n",
       "...                                     ...                ...  ...    ...   \n",
       "36919  fffe43004900440031003200330036003100    Danny Rodriques   35      M   \n",
       "36926  fffe43004900440033003200350033003000      Joyce Robards   59      F   \n",
       "36939  fffe43004900440035003200300030003900  Christiana Troyer   54      F   \n",
       "36945  fffe43004900440034003400350033003700     Elden Lecompte   64      M   \n",
       "36950      fffe4300490044003300360037003400         Shawna Cao   58      F   \n",
       "\n",
       "      security_no region_category  membership_category joining_date  \\\n",
       "23        GX2SOJ5            Town     Basic Membership   2017-11-10   \n",
       "54        KJLXRJ7            Town   Premium Membership   2017-04-26   \n",
       "83        KUJNEI7             NaN     Basic Membership   2015-08-07   \n",
       "103       80X3LBS            Town   Premium Membership   2016-09-02   \n",
       "114       ELWT1XG            City    Silver Membership   2017-11-14   \n",
       "...           ...             ...                  ...          ...   \n",
       "36919     JLZ2E95         Village        No Membership   2015-08-27   \n",
       "36926     0PQQ85C            City     Basic Membership   2017-12-11   \n",
       "36939     P2ETOZR            Town  Platinum Membership   2015-03-29   \n",
       "36945     2J86HFW            Town      Gold Membership   2015-04-25   \n",
       "36950     F2XM0QL         Village        No Membership   2016-10-07   \n",
       "\n",
       "      joined_through_referral referral_id  ... avg_transaction_value  \\\n",
       "23                        Yes    xxxxxxxx  ...              15860.41   \n",
       "54                        Yes    xxxxxxxx  ...               9091.94   \n",
       "83                        Yes    xxxxxxxx  ...              11345.66   \n",
       "103                       Yes    xxxxxxxx  ...              41156.81   \n",
       "114                       Yes    xxxxxxxx  ...              17002.23   \n",
       "...                       ...         ...  ...                   ...   \n",
       "36919                     Yes    xxxxxxxx  ...              18097.99   \n",
       "36926                     Yes    xxxxxxxx  ...              14831.98   \n",
       "36939                     Yes    xxxxxxxx  ...               7346.05   \n",
       "36945                     Yes    xxxxxxxx  ...              29127.95   \n",
       "36950                     Yes    xxxxxxxx  ...              10604.39   \n",
       "\n",
       "      avg_frequency_login_days points_in_wallet used_special_discount  \\\n",
       "23          3.2073857931601104           529.03                    No   \n",
       "54                        20.0           700.40                    No   \n",
       "83                         7.0           572.41                    No   \n",
       "103                       27.0           741.02                    No   \n",
       "114                       11.0           700.11                    No   \n",
       "...                        ...              ...                   ...   \n",
       "36919                     17.0           672.83                   Yes   \n",
       "36926                    Error           682.34                   Yes   \n",
       "36939                     13.0              NaN                    No   \n",
       "36945                     29.0           727.13                   Yes   \n",
       "36950                     11.0           694.06                   Yes   \n",
       "\n",
       "       offer_application_preference  past_complaint     complaint_status  \\\n",
       "23                              Yes              No       Not Applicable   \n",
       "54                              Yes              No       Not Applicable   \n",
       "83                              Yes             Yes  Solved in Follow-up   \n",
       "103                             Yes              No       Not Applicable   \n",
       "114                             Yes              No       Not Applicable   \n",
       "...                             ...             ...                  ...   \n",
       "36919                            No              No       Not Applicable   \n",
       "36926                            No              No       Not Applicable   \n",
       "36939                           Yes             Yes               Solved   \n",
       "36945                            No              No       Not Applicable   \n",
       "36950                           Yes             Yes               Solved   \n",
       "\n",
       "                    feedback  churn_risk_score log_avg_time_spent  \n",
       "23       No reason specified               NaN           4.297557  \n",
       "54      Poor Product Quality               3.0           6.652644  \n",
       "83      Poor Product Quality               5.0           5.544083  \n",
       "103    Poor Customer Service               3.0           4.757118  \n",
       "114             Too many ads               3.0           5.241271  \n",
       "...                      ...               ...                ...  \n",
       "36919  Poor Customer Service               4.0           6.419897  \n",
       "36926  Poor Customer Service               5.0           4.051959  \n",
       "36939           Poor Website               3.0           3.601686  \n",
       "36945  Poor Customer Service               3.0           3.503453  \n",
       "36950    No reason specified               4.0           6.058866  \n",
       "\n",
       "[1446 rows x 26 columns]"
      ]
     },
     "execution_count": 78,
     "metadata": {},
     "output_type": "execute_result"
    }
   ],
   "source": [
    "# TODO: There're lots of columns seems to have inconsistent data; how to deal with them?!\n",
    "wrong_rows = ((train_copy['referral_id'] != 'xxxxxxxx') & (train_copy['joined_through_referral'] == 'No')) | \\\n",
    "\t\t\t\t((train_copy['referral_id'] == 'xxxxxxxx') & (train_copy['joined_through_referral'] == 'Yes'))\n",
    "train_copy.loc[wrong_rows]"
   ]
  },
  {
   "cell_type": "markdown",
   "metadata": {},
   "source": [
    "I prefer to not remove them because first we need to go back the data owners and ask them what it means when 'referral_id' is equal to 'xxxxxxxx'. "
   ]
  },
  {
   "cell_type": "markdown",
   "metadata": {},
   "source": [
    "### Drop unnecessary cols\n"
   ]
  },
  {
   "cell_type": "code",
   "execution_count": 79,
   "metadata": {},
   "outputs": [],
   "source": [
    "train_copy = train_copy.drop(columns=cols_to_drop)"
   ]
  },
  {
   "cell_type": "code",
   "execution_count": 80,
   "metadata": {},
   "outputs": [
    {
     "data": {
      "text/plain": [
       "['past_complaint',\n",
       " 'preferred_offer_types',\n",
       " 'joined_through_referral',\n",
       " 'gender',\n",
       " 'membership_category',\n",
       " 'internet_option',\n",
       " 'used_special_discount',\n",
       " 'complaint_status',\n",
       " 'feedback',\n",
       " 'last_visit_time',\n",
       " 'offer_application_preference',\n",
       " 'medium_of_operation',\n",
       " 'joining_date',\n",
       " 'region_category']"
      ]
     },
     "execution_count": 80,
     "metadata": {},
     "output_type": "execute_result"
    }
   ],
   "source": [
    "cat_cols = list(set(train_copy.select_dtypes(include='object').columns) - set(date_cols))\n",
    "# last_visit_time → categories: morning & evening, ...\n",
    "cat_cols"
   ]
  },
  {
   "cell_type": "markdown",
   "metadata": {},
   "source": [
    "#### Set unknown categories to `Nan`"
   ]
  },
  {
   "cell_type": "code",
   "execution_count": 81,
   "metadata": {},
   "outputs": [],
   "source": [
    "# train_copy.loc[train_copy['joined_through_referral']=='?', 'joined_through_referral'] = np.nan\n",
    "# train_copy.loc[train_copy['medium_of_operation']=='?', 'medium_of_operation'] = np.nan\n",
    "train_copy = train_copy.replace('?', np.nan)"
   ]
  },
  {
   "cell_type": "markdown",
   "metadata": {},
   "source": [
    "#### Identify missing values"
   ]
  },
  {
   "cell_type": "code",
   "execution_count": 82,
   "metadata": {},
   "outputs": [
    {
     "data": {
      "text/plain": [
       "age                                0\n",
       "gender                             0\n",
       "region_category                 5428\n",
       "membership_category                0\n",
       "joining_date                       0\n",
       "joined_through_referral         5438\n",
       "preferred_offer_types            288\n",
       "medium_of_operation             5393\n",
       "internet_option                    0\n",
       "last_visit_time                    0\n",
       "days_since_last_login           1999\n",
       "avg_time_spent                  1719\n",
       "avg_transaction_value              0\n",
       "points_in_wallet                3579\n",
       "used_special_discount              0\n",
       "offer_application_preference       0\n",
       "past_complaint                     0\n",
       "complaint_status                   0\n",
       "feedback                           0\n",
       "churn_risk_score                1163\n",
       "log_avg_time_spent              1719\n",
       "dtype: int64"
      ]
     },
     "execution_count": 82,
     "metadata": {},
     "output_type": "execute_result"
    }
   ],
   "source": [
    "train_copy.isna().sum()"
   ]
  },
  {
   "cell_type": "markdown",
   "metadata": {},
   "source": [
    "- Drop rows where target variable is missing"
   ]
  },
  {
   "cell_type": "code",
   "execution_count": 83,
   "metadata": {},
   "outputs": [],
   "source": [
    "train_copy = train_copy.drop(train_copy.loc[train_copy['churn_risk_score'].isna()].index)"
   ]
  },
  {
   "cell_type": "markdown",
   "metadata": {},
   "source": [
    "-\tCheck remaining columns with Nans"
   ]
  },
  {
   "cell_type": "code",
   "execution_count": 84,
   "metadata": {},
   "outputs": [
    {
     "data": {
      "text/plain": [
       "age                                0\n",
       "gender                             0\n",
       "region_category                 5263\n",
       "membership_category                0\n",
       "joining_date                       0\n",
       "joined_through_referral         5292\n",
       "preferred_offer_types            276\n",
       "medium_of_operation             5230\n",
       "internet_option                    0\n",
       "last_visit_time                    0\n",
       "days_since_last_login           1944\n",
       "avg_time_spent                  1659\n",
       "avg_transaction_value              0\n",
       "points_in_wallet                3475\n",
       "used_special_discount              0\n",
       "offer_application_preference       0\n",
       "past_complaint                     0\n",
       "complaint_status                   0\n",
       "feedback                           0\n",
       "churn_risk_score                   0\n",
       "log_avg_time_spent              1659\n",
       "dtype: int64"
      ]
     },
     "execution_count": 84,
     "metadata": {},
     "output_type": "execute_result"
    }
   ],
   "source": [
    "train_copy.isna().sum()"
   ]
  },
  {
   "cell_type": "markdown",
   "metadata": {},
   "source": [
    "##### **Handling missing value approach**\n",
    "\n",
    "I will use `verstack.NaNImputer` for powerful model-based imputation"
   ]
  },
  {
   "cell_type": "markdown",
   "metadata": {},
   "source": [
    "## Building the whole pipeline"
   ]
  },
  {
   "cell_type": "markdown",
   "metadata": {},
   "source": [
    "### DataCleaner Transformer\n",
    "\n",
    "This transformer:\n",
    "\n",
    "-\tdrops unwanted cols\n",
    "\n",
    "-\treplace unknown categories (e.g., '?') with `np.nan`\n",
    "\n",
    "-\thandle wrong negative values "
   ]
  },
  {
   "cell_type": "code",
   "execution_count": 85,
   "metadata": {},
   "outputs": [],
   "source": [
    "class DataCleaner(BaseEstimator, TransformerMixin):\n",
    "\tdef __init__(self, cols_to_drop):\n",
    "\t\tself.cols_to_drop = cols_to_drop\n",
    "   \n",
    "\tdef fit(self, X, y=None):\n",
    "\t\treturn self\n",
    "\n",
    "\t# X is pd.DataFrame\n",
    "\tdef transform(self, X):\n",
    "\t\tX_copy = X.copy()\n",
    "\t\tX_copy.drop(columns=self.cols_to_drop, inplace=True)\t\n",
    "\t\t\t\n",
    "\t\tX_copy.replace(\"?\", np.nan, inplace=True)\n",
    "\n",
    "\t\tfor col in ['days_since_last_login', 'avg_time_spent', 'points_in_wallet']:\n",
    "\t\t\tX_copy.loc[X_copy[col] < 0, col] = np.nan  \n",
    "\n",
    "\t\treturn X_copy"
   ]
  },
  {
   "cell_type": "markdown",
   "metadata": {},
   "source": [
    "####  Wrapping `verstack.NaNImputer` into an custom transformer for compatibility with scikit-learn's API"
   ]
  },
  {
   "cell_type": "code",
   "execution_count": 86,
   "metadata": {},
   "outputs": [],
   "source": [
    "class NaNImputerWrapper(BaseEstimator, TransformerMixin):\n",
    "    def __init__(self, train_sample_size=30_000, verbose=True):\n",
    "        self.train_sample_size = train_sample_size\n",
    "        self.verbose = verbose\n",
    "        self.imputer = NaNImputer(self.train_sample_size, self.verbose)\n",
    "\n",
    "    def fit(self, X, y=None):\n",
    "        return self\n",
    "\n",
    "    def transform(self, X):\n",
    "        return self.imputer.impute(X)"
   ]
  },
  {
   "cell_type": "markdown",
   "metadata": {},
   "source": [
    "### Integrating transformers into a pipeline"
   ]
  },
  {
   "cell_type": "code",
   "execution_count": 94,
   "metadata": {},
   "outputs": [],
   "source": [
    "train.loc[train['churn_risk_score'] == -1, 'churn_risk_score'] = np.nan\n",
    "train = train.dropna(subset=['churn_risk_score'])"
   ]
  },
  {
   "cell_type": "code",
   "execution_count": 95,
   "metadata": {},
   "outputs": [],
   "source": [
    "X_train = train.drop(columns=['churn_risk_score'])\n",
    "y_train = train['churn_risk_score']"
   ]
  },
  {
   "cell_type": "code",
   "execution_count": 96,
   "metadata": {},
   "outputs": [
    {
     "name": "stdout",
     "output_type": "stream",
     "text": [
      "\n",
      " * Initiating NaNImputer.impute\n",
      "     . Dataset dimensions:\n",
      "     .. rows:         35829\n",
      "     .. columns:      19\n",
      "     .. mb in memory: 5.47\n",
      "     .. NaN cols num: 7\n",
      "\n",
      "   - Drop hopeless NaN cols\n",
      "\n",
      "   - Processing whole data for imputation\n",
      "     . Processed 10 cols; 7 to go\n",
      "\n",
      "   - Imputing single core 7 cols\n",
      "     . Imputed (multiclass) - 5263     NaN in region_category\n",
      "     . Imputed (  binary  ) - 5292     NaN in joined_through_referral\n",
      "     . Imputed (multiclass) - 276      NaN in preferred_offer_types\n",
      "     . Imputed (multiclass) - 5230     NaN in medium_of_operation\n",
      "     . Imputed (multiclass) - 1944     NaN in days_since_last_login\n",
      "     . Imputed (regression) - 1659     NaN in avg_time_spent\n",
      "     . Imputed (regression) - 3475     NaN in points_in_wallet\n",
      "\n",
      "   - Missing values after imputation: 0\n",
      "\n",
      "Time elapsed for impute execution: 31.78069 seconds\n"
     ]
    }
   ],
   "source": [
    "cleaning_pipeline = Pipeline([\n",
    "    ('dataCleaner', DataCleaner(cols_to_drop)), \n",
    "    ('imputer', NaNImputerWrapper(train_sample_size=train.shape[0]))\n",
    "])\n",
    "\n",
    "X_train_cleaned = cleaning_pipeline.fit_transform(X_train)"
   ]
  },
  {
   "cell_type": "code",
   "execution_count": 97,
   "metadata": {},
   "outputs": [
    {
     "name": "stdout",
     "output_type": "stream",
     "text": [
      "<class 'pandas.core.frame.DataFrame'>\n",
      "Index: 35829 entries, 0 to 36991\n",
      "Data columns (total 19 columns):\n",
      " #   Column                        Non-Null Count  Dtype  \n",
      "---  ------                        --------------  -----  \n",
      " 0   age                           35829 non-null  int64  \n",
      " 1   gender                        35829 non-null  object \n",
      " 2   region_category               35829 non-null  object \n",
      " 3   membership_category           35829 non-null  object \n",
      " 4   joining_date                  35829 non-null  object \n",
      " 5   joined_through_referral       35829 non-null  object \n",
      " 6   preferred_offer_types         35829 non-null  object \n",
      " 7   medium_of_operation           35829 non-null  object \n",
      " 8   internet_option               35829 non-null  object \n",
      " 9   last_visit_time               35829 non-null  object \n",
      " 10  days_since_last_login         35829 non-null  float64\n",
      " 11  avg_time_spent                35829 non-null  float64\n",
      " 12  avg_transaction_value         35829 non-null  float64\n",
      " 13  points_in_wallet              35829 non-null  float64\n",
      " 14  used_special_discount         35829 non-null  object \n",
      " 15  offer_application_preference  35829 non-null  object \n",
      " 16  past_complaint                35829 non-null  object \n",
      " 17  complaint_status              35829 non-null  object \n",
      " 18  feedback                      35829 non-null  object \n",
      "dtypes: float64(4), int64(1), object(14)\n",
      "memory usage: 6.5+ MB\n"
     ]
    }
   ],
   "source": [
    "X_train_cleaned.info()"
   ]
  },
  {
   "cell_type": "markdown",
   "metadata": {},
   "source": [
    "### Save cleaned data"
   ]
  },
  {
   "cell_type": "code",
   "execution_count": 98,
   "metadata": {},
   "outputs": [],
   "source": [
    "train_cleaned = pd.concat([X_train_cleaned, y_train], axis=1)\n",
    "train_cleaned.to_csv('train_cleaned.csv', index=False)"
   ]
  }
 ],
 "metadata": {
  "kernelspec": {
   "display_name": "Python 3",
   "language": "python",
   "name": "python3"
  },
  "language_info": {
   "codemirror_mode": {
    "name": "ipython",
    "version": 3
   },
   "file_extension": ".py",
   "mimetype": "text/x-python",
   "name": "python",
   "nbconvert_exporter": "python",
   "pygments_lexer": "ipython3",
   "version": "3.12.1"
  }
 },
 "nbformat": 4,
 "nbformat_minor": 2
}
